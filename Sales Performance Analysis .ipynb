{
 "cells": [
  {
   "cell_type": "code",
   "execution_count": 38,
   "id": "122f5d00-255f-45a4-a14a-23ce7ca51dd1",
   "metadata": {},
   "outputs": [],
   "source": [
    "import pandas as pd\n",
    "import matplotlib.pyplot as plt\n",
    "import seaborn as sns\n",
    "import sqlite3"
   ]
  },
  {
   "cell_type": "code",
   "execution_count": 2,
   "id": "02066a80-6c2a-42df-932e-fcd9de8b257c",
   "metadata": {},
   "outputs": [
    {
     "name": "stdout",
     "output_type": "stream",
     "text": [
      "   Transaction ID        Date Customer ID  Gender  Age Product Category  \\\n",
      "0               1  2023-11-24     CUST001    Male   34           Beauty   \n",
      "1               2  2023-02-27     CUST002  Female   26         Clothing   \n",
      "2               3  2023-01-13     CUST003    Male   50      Electronics   \n",
      "3               4  2023-05-21     CUST004    Male   37         Clothing   \n",
      "4               5  2023-05-06     CUST005    Male   30           Beauty   \n",
      "\n",
      "   Quantity  Price per Unit  Total Amount  \n",
      "0         3              50           150  \n",
      "1         2             500          1000  \n",
      "2         1              30            30  \n",
      "3         1             500           500  \n",
      "4         2              50           100  \n"
     ]
    }
   ],
   "source": [
    "# Load the dataset\n",
    "data = pd.read_csv(\"D:/Downloads/archive (6)/retail_sales_dataset.csv\")\n",
    "\n",
    "# Preview the dataset\n",
    "print(data.head())"
   ]
  },
  {
   "cell_type": "code",
   "execution_count": 4,
   "id": "dcb85669-35b4-4996-9298-9e591ff3dca6",
   "metadata": {},
   "outputs": [
    {
     "data": {
      "text/plain": [
       "(1000, 9)"
      ]
     },
     "execution_count": 4,
     "metadata": {},
     "output_type": "execute_result"
    }
   ],
   "source": [
    "data.shape"
   ]
  },
  {
   "cell_type": "code",
   "execution_count": 3,
   "id": "7a87943a-d264-48be-8f75-5ab7e3194cf5",
   "metadata": {},
   "outputs": [
    {
     "name": "stdout",
     "output_type": "stream",
     "text": [
      "<class 'pandas.core.frame.DataFrame'>\n",
      "RangeIndex: 1000 entries, 0 to 999\n",
      "Data columns (total 9 columns):\n",
      " #   Column            Non-Null Count  Dtype \n",
      "---  ------            --------------  ----- \n",
      " 0   Transaction ID    1000 non-null   int64 \n",
      " 1   Date              1000 non-null   object\n",
      " 2   Customer ID       1000 non-null   object\n",
      " 3   Gender            1000 non-null   object\n",
      " 4   Age               1000 non-null   int64 \n",
      " 5   Product Category  1000 non-null   object\n",
      " 6   Quantity          1000 non-null   int64 \n",
      " 7   Price per Unit    1000 non-null   int64 \n",
      " 8   Total Amount      1000 non-null   int64 \n",
      "dtypes: int64(5), object(4)\n",
      "memory usage: 70.4+ KB\n"
     ]
    }
   ],
   "source": [
    "data.info()"
   ]
  },
  {
   "cell_type": "code",
   "execution_count": 5,
   "id": "e40f678e-e124-496f-9f43-6c3e6ee8c1a0",
   "metadata": {},
   "outputs": [],
   "source": [
    "# Convert 'Date' to datetime\n",
    "data['Date'] = pd.to_datetime(data['Date'])"
   ]
  },
  {
   "cell_type": "code",
   "execution_count": 7,
   "id": "58fedd4a-bc49-4115-8b4a-1230a3defb77",
   "metadata": {},
   "outputs": [
    {
     "name": "stdout",
     "output_type": "stream",
     "text": [
      "Transaction ID      0\n",
      "Date                0\n",
      "Customer ID         0\n",
      "Gender              0\n",
      "Age                 0\n",
      "Product Category    0\n",
      "Quantity            0\n",
      "Price per Unit      0\n",
      "Total Amount        0\n",
      "dtype: int64\n"
     ]
    }
   ],
   "source": [
    "# Check for missing values\n",
    "print(data.isnull().sum())\n",
    "\n",
    "# Handle missing values if any\n",
    "data.dropna(inplace=True) "
   ]
  },
  {
   "cell_type": "code",
   "execution_count": 8,
   "id": "7376dc63-6fbe-4a82-aecb-5e789520df6e",
   "metadata": {},
   "outputs": [],
   "source": [
    "# Remove duplicates\n",
    "data.drop_duplicates(inplace=True)"
   ]
  },
  {
   "cell_type": "code",
   "execution_count": 9,
   "id": "70335a79-7da0-486f-b3ac-54883512e9b2",
   "metadata": {},
   "outputs": [
    {
     "name": "stdout",
     "output_type": "stream",
     "text": [
      "Total Sales: $456000.00\n",
      "Average Order Value: $456.00\n",
      "Sales by Product Category:\n",
      "Product Category\n",
      "Electronics    156905\n",
      "Clothing       155580\n",
      "Beauty         143515\n",
      "Name: Total Amount, dtype: int64\n",
      "Sales by Gender:\n",
      "Gender\n",
      "Female    232840\n",
      "Male      223160\n",
      "Name: Total Amount, dtype: int64\n"
     ]
    }
   ],
   "source": [
    "# Total Sales\n",
    "total_sales = data['Total Amount'].sum()\n",
    "print(f\"Total Sales: ${total_sales:.2f}\")\n",
    "\n",
    "# Average Order Value\n",
    "average_order_value = data.groupby('Transaction ID')['Total Amount'].sum().mean()\n",
    "print(f\"Average Order Value: ${average_order_value:.2f}\")\n",
    "\n",
    "# Sales by Product Category\n",
    "sales_by_category = data.groupby('Product Category')['Total Amount'].sum().sort_values(ascending=False)\n",
    "print(\"Sales by Product Category:\")\n",
    "print(sales_by_category)\n",
    "\n",
    "# Sales by Gender\n",
    "sales_by_gender = data.groupby('Gender')['Total Amount'].sum()\n",
    "print(\"Sales by Gender:\")\n",
    "print(sales_by_gender)\n"
   ]
  },
  {
   "cell_type": "code",
   "execution_count": 11,
   "id": "b7aa9e8c-d38d-40e9-b983-8d6879c745b8",
   "metadata": {},
   "outputs": [
    {
     "name": "stderr",
     "output_type": "stream",
     "text": [
      "C:\\Users\\DELL\\AppData\\Local\\Temp\\ipykernel_21176\\2379006269.py:2: FutureWarning: 'M' is deprecated and will be removed in a future version, please use 'ME' instead.\n",
      "  monthly_sales = data.resample('M', on='Date')['Total Amount'].sum()\n"
     ]
    },
    {
     "data": {
      "image/png": "[encoded data removed]",
      "text/plain": [
       "<Figure size 600x400 with 1 Axes>"
      ]
     },
     "metadata": {},
     "output_type": "display_data"
    }
   ],
   "source": [
    "# Resample by month and plot sales trend\n",
    "monthly_sales = data.resample('M', on='Date')['Total Amount'].sum()\n",
    "\n",
    "plt.figure(figsize=(6, 4))\n",
    "monthly_sales.plot()\n",
    "plt.title('Monthly Sales Trend')\n",
    "plt.xlabel('Date')\n",
    "plt.ylabel('Total Sales')\n",
    "plt.grid(True)\n",
    "plt.show()\n"
   ]
  },
  {
   "cell_type": "code",
   "execution_count": 12,
   "id": "88a79086-e2b9-4b62-b958-67f59720da31",
   "metadata": {},
   "outputs": [
    {
     "data": {
      "image/png": "[encoded data removed]",
      "text/plain": [
       "<Figure size 1000x600 with 1 Axes>"
      ]
     },
     "metadata": {},
     "output_type": "display_data"
    }
   ],
   "source": [
    "plt.figure(figsize=(10, 6))\n",
    "sns.barplot(x=sales_by_category.index, y=sales_by_category.values)\n",
    "plt.title('Sales by Product Category')\n",
    "plt.xlabel('Product Category')\n",
    "plt.ylabel('Total Sales')\n",
    "plt.xticks(rotation=45)\n",
    "plt.show()\n"
   ]
  },
  {
   "cell_type": "code",
   "execution_count": 13,
   "id": "bf6f87df-5805-42e6-8cca-88151676a9f1",
   "metadata": {},
   "outputs": [
    {
     "data": {
      "image/png": "[encoded data removed]",
      "text/plain": [
       "<Figure size 800x500 with 1 Axes>"
      ]
     },
     "metadata": {},
     "output_type": "display_data"
    }
   ],
   "source": [
    "plt.figure(figsize=(8, 5))\n",
    "sns.barplot(x=sales_by_gender.index, y=sales_by_gender.values)\n",
    "plt.title('Sales by Gender')\n",
    "plt.xlabel('Gender')\n",
    "plt.ylabel('Total Sales')\n",
    "plt.show()\n"
   ]
  },
  {
   "cell_type": "code",
   "execution_count": 14,
   "id": "45e9f27e-6a46-4de0-8c53-a6f9f4228e1a",
   "metadata": {},
   "outputs": [
    {
     "data": {
      "image/png": "[encoded data removed]",
      "text/plain": [
       "<Figure size 1000x600 with 1 Axes>"
      ]
     },
     "metadata": {},
     "output_type": "display_data"
    }
   ],
   "source": [
    "# Assuming age groups are defined in the dataset\n",
    "age_group_sales = data.groupby('Age')['Total Amount'].sum()\n",
    "\n",
    "plt.figure(figsize=(10, 6))\n",
    "sns.barplot(x=age_group_sales.index, y=age_group_sales.values)\n",
    "plt.title('Sales by Age Group')\n",
    "plt.xlabel('Age Group')\n",
    "plt.ylabel('Total Sales')\n",
    "plt.xticks(rotation=45)\n",
    "plt.show()\n"
   ]
  },
  {
   "cell_type": "code",
   "execution_count": 15,
   "id": "87c4ef58-9cf7-46b6-8b5c-0ce682f96069",
   "metadata": {},
   "outputs": [],
   "source": [
    "# Save key metrics to a CSV file\n",
    "metrics = pd.DataFrame({\n",
    "    'Metric': ['Total Sales', 'Average Order Value'],\n",
    "    'Value': [total_sales, average_order_value]\n",
    "})\n",
    "metrics.to_csv('analysis_metrics.csv', index=False)\n"
   ]
  },
  {
   "cell_type": "markdown",
   "id": "15a7bb83-d8e1-412d-9388-55ec51d46c19",
   "metadata": {},
   "source": [
    "# SQL Database Creation"
   ]
  },
  {
   "cell_type": "code",
   "execution_count": 21,
   "id": "3e8f0f67-b6a8-4e08-a6db-74e7d315afed",
   "metadata": {},
   "outputs": [
    {
     "name": "stdout",
     "output_type": "stream",
     "text": [
      "Customers DataFrame:\n",
      "  CustomerID  Gender  Age\n",
      "0    CUST001    Male   34\n",
      "1    CUST002  Female   26\n",
      "2    CUST003    Male   50\n",
      "3    CUST004    Male   37\n",
      "4    CUST005    Male   30\n",
      "Products DataFrame:\n",
      "      Category  Price  ProductID\n",
      "0       Beauty     50          1\n",
      "1     Clothing    500          2\n",
      "2  Electronics     30          3\n",
      "5       Beauty     30          4\n",
      "6     Clothing     25          5\n",
      "Sales DataFrame:\n",
      "   SaleID       Date CustomerID     Category  Quantity  Total Amount\n",
      "0       1 2023-11-24    CUST001       Beauty         3           150\n",
      "1       2 2023-02-27    CUST002     Clothing         2          1000\n",
      "2       3 2023-01-13    CUST003  Electronics         1            30\n",
      "3       4 2023-05-21    CUST004     Clothing         1           500\n",
      "4       5 2023-05-06    CUST005       Beauty         2           100\n"
     ]
    },
    {
     "name": "stderr",
     "output_type": "stream",
     "text": [
      "C:\\Users\\DELL\\AppData\\Local\\Temp\\ipykernel_21176\\1236756866.py:20: SettingWithCopyWarning: \n",
      "A value is trying to be set on a copy of a slice from a DataFrame\n",
      "\n",
      "See the caveats in the documentation: https://pandas.pydata.org/pandas-docs/stable/user_guide/indexing.html#returning-a-view-versus-a-copy\n",
      "  sales.rename(columns={\n",
      "C:\\Users\\DELL\\AppData\\Local\\Temp\\ipykernel_21176\\1236756866.py:25: SettingWithCopyWarning: \n",
      "A value is trying to be set on a copy of a slice from a DataFrame.\n",
      "Try using .loc[row_indexer,col_indexer] = value instead\n",
      "\n",
      "See the caveats in the documentation: https://pandas.pydata.org/pandas-docs/stable/user_guide/indexing.html#returning-a-view-versus-a-copy\n",
      "  sales['Date'] = pd.to_datetime(sales['Date'])\n"
     ]
    }
   ],
   "source": [
    "# Create the Customers DataFrame\n",
    "customers = data[['Customer ID', 'Gender', 'Age']].drop_duplicates()\n",
    "customers.rename(columns={\n",
    "    'Customer ID': 'CustomerID',\n",
    "    'Gender': 'Gender',\n",
    "    'Age': 'Age'\n",
    "}, inplace=True)\n",
    "\n",
    "# Create the Products DataFrame\n",
    "products = data[['Product Category', 'Price per Unit']].drop_duplicates()\n",
    "products.rename(columns={\n",
    "    'Product Category': 'Category',\n",
    "    'Price per Unit': 'Price'\n",
    "}, inplace=True)\n",
    "# Assign a unique ProductID for each product category and price combination\n",
    "products['ProductID'] = range(1, len(products) + 1)\n",
    "\n",
    "# Create the Sales DataFrame\n",
    "sales = data[['Transaction ID', 'Date', 'Customer ID', 'Product Category', 'Quantity', 'Total Amount']]\n",
    "sales.rename(columns={\n",
    "    'Transaction ID': 'SaleID',\n",
    "    'Customer ID': 'CustomerID',\n",
    "    'Product Category': 'Category'\n",
    "}, inplace=True)\n",
    "sales['Date'] = pd.to_datetime(sales['Date'])\n",
    "\n",
    "# Print out the DataFrames to check\n",
    "print(\"Customers DataFrame:\")\n",
    "print(customers.head())\n",
    "\n",
    "print(\"Products DataFrame:\")\n",
    "print(products.head())\n",
    "\n",
    "print(\"Sales DataFrame:\")\n",
    "print(sales.head())"
   ]
  },
  {
   "cell_type": "code",
   "execution_count": 22,
   "id": "e08ed96d-3da4-4440-8a57-bafd36643737",
   "metadata": {},
   "outputs": [],
   "source": [
    "# Connect to SQLite database\n",
    "conn = sqlite3.connect('sales_performance.db')\n",
    "cursor = conn.cursor()\n",
    "\n",
    "# Create tables\n",
    "cursor.execute('''\n",
    "CREATE TABLE IF NOT EXISTS Customers (\n",
    "    CustomerID TEXT PRIMARY KEY,\n",
    "    Gender TEXT,\n",
    "    Age INTEGER\n",
    ")\n",
    "''')\n",
    "\n",
    "cursor.execute('''\n",
    "CREATE TABLE IF NOT EXISTS Products (\n",
    "    ProductID INTEGER PRIMARY KEY,\n",
    "    Category TEXT,\n",
    "    Price REAL\n",
    ")\n",
    "''')\n",
    "\n",
    "cursor.execute('''\n",
    "CREATE TABLE IF NOT EXISTS Sales (\n",
    "    SaleID INTEGER PRIMARY KEY,\n",
    "    Date DATE,\n",
    "    CustomerID TEXT,\n",
    "    ProductID INTEGER,\n",
    "    Quantity INTEGER,\n",
    "    Amount REAL,\n",
    "    FOREIGN KEY (CustomerID) REFERENCES Customers (CustomerID),\n",
    "    FOREIGN KEY (ProductID) REFERENCES Products (ProductID)\n",
    ")\n",
    "''')\n",
    "\n",
    "# Commit changes and close connection\n",
    "conn.commit()\n"
   ]
  },
  {
   "cell_type": "code",
   "execution_count": 23,
   "id": "29e7fdf2-652d-45c3-b37e-582763b21c8a",
   "metadata": {},
   "outputs": [],
   "source": [
    "# Map Product Category to ProductID\n",
    "sales = sales.merge(products[['Category', 'ProductID']], on='Category')\n",
    "\n",
    "# Import data into SQL tables\n",
    "customers.to_sql('Customers', conn, if_exists='replace', index=False)\n",
    "products.to_sql('Products', conn, if_exists='replace', index=False)\n",
    "sales.to_sql('Sales', conn, if_exists='replace', index=False)\n",
    "\n",
    "# Close the connection\n",
    "conn.close()"
   ]
  },
  {
   "cell_type": "code",
   "execution_count": 25,
   "id": "5e2452e3-991f-40c2-9cbf-128ae2f65453",
   "metadata": {},
   "outputs": [
    {
     "name": "stdout",
     "output_type": "stream",
     "text": [
      "Total Sales: $2280000.00\n",
      "Average Order Value: $2280.00\n"
     ]
    }
   ],
   "source": [
    "conn = sqlite3.connect('sales_performance.db')\n",
    "\n",
    "# Load data from SQL tables into DataFrames\n",
    "sales_data = pd.read_sql('SELECT * FROM Sales', conn)\n",
    "customers_data = pd.read_sql('SELECT * FROM Customers', conn)\n",
    "products_data = pd.read_sql('SELECT * FROM Products', conn)\n",
    "\n",
    "# Total Sales\n",
    "total_sales = sales_data['Total Amount'].sum()\n",
    "print(f\"Total Sales: ${total_sales:.2f}\")\n",
    "\n",
    "# Average Order Value\n",
    "average_order_value = sales_data.groupby('SaleID')['Total Amount'].sum().mean()\n",
    "print(f\"Average Order Value: ${average_order_value:.2f}\")\n",
    "\n",
    "conn.close()\n"
   ]
  },
  {
   "cell_type": "markdown",
   "id": "04c371db-8c05-437a-ad29-96f50562c2fe",
   "metadata": {},
   "source": [
    "# Total Sales by Product Category"
   ]
  },
  {
   "cell_type": "code",
   "execution_count": 28,
   "id": "e01006fe-c731-472c-80d1-f5d716e0d3b1",
   "metadata": {},
   "outputs": [
    {
     "name": "stdout",
     "output_type": "stream",
     "text": [
      "      Category  TotalSales\n",
      "0  Electronics      784525\n",
      "1     Clothing      777900\n",
      "2       Beauty      717575\n"
     ]
    }
   ],
   "source": [
    "query = \"\"\"\n",
    "SELECT p.Category, SUM(s.[Total Amount]) AS TotalSales\n",
    "FROM sales s\n",
    "JOIN Products p ON s.ProductID = p.ProductID\n",
    "GROUP BY p.Category\n",
    "ORDER BY TotalSales DESC;\n",
    "\"\"\"\n",
    "\n",
    "total_sales_by_category = pd.read_sql(query, conn)\n",
    "print(total_sales_by_category)\n"
   ]
  },
  {
   "cell_type": "markdown",
   "id": "be2c9ae2-cb0a-428b-b13f-45e4d51c3a78",
   "metadata": {},
   "source": [
    "# Average Order Value by Customer"
   ]
  },
  {
   "cell_type": "code",
   "execution_count": 29,
   "id": "f0a8a056-6d37-4c8d-bf7b-ad57e9f4369c",
   "metadata": {},
   "outputs": [
    {
     "name": "stdout",
     "output_type": "stream",
     "text": [
      "    CustomerID  AvgOrderValue\n",
      "0      CUST970         2000.0\n",
      "1      CUST946         2000.0\n",
      "2      CUST927         2000.0\n",
      "3      CUST875         2000.0\n",
      "4      CUST832         2000.0\n",
      "..         ...            ...\n",
      "995    CUST201           25.0\n",
      "996    CUST191           25.0\n",
      "997    CUST185           25.0\n",
      "998    CUST103           25.0\n",
      "999    CUST044           25.0\n",
      "\n",
      "[1000 rows x 2 columns]\n"
     ]
    }
   ],
   "source": [
    "query = \"\"\"\n",
    "SELECT s.CustomerID, AVG(s.[Total Amount]) AS AvgOrderValue\n",
    "FROM sales s\n",
    "GROUP BY s.CustomerID\n",
    "ORDER BY AvgOrderValue DESC;\n",
    "\"\"\"\n",
    "\n",
    "avg_order_value_per_customer = pd.read_sql(query, conn)\n",
    "print(avg_order_value_per_customer)\n"
   ]
  },
  {
   "cell_type": "markdown",
   "id": "d474ddaf-883e-463d-a8ee-8fe017067bc9",
   "metadata": {},
   "source": [
    "# Total Sales by Gender"
   ]
  },
  {
   "cell_type": "code",
   "execution_count": 30,
   "id": "78c5f0e8-d14b-4a63-bd90-5519fca9cad4",
   "metadata": {},
   "outputs": [
    {
     "name": "stdout",
     "output_type": "stream",
     "text": [
      "   Gender  TotalSales\n",
      "0  Female     1164200\n",
      "1    Male     1115800\n"
     ]
    }
   ],
   "source": [
    "query = \"\"\"\n",
    "SELECT c.Gender, SUM(s.[Total Amount]) AS TotalSales\n",
    "FROM sales s\n",
    "JOIN Customers c ON s.CustomerID = c.CustomerID\n",
    "GROUP BY c.Gender\n",
    "ORDER BY TotalSales DESC;\n",
    "\"\"\"\n",
    "\n",
    "total_sales_by_gender = pd.read_sql(query, conn)\n",
    "print(total_sales_by_gender)\n"
   ]
  },
  {
   "cell_type": "markdown",
   "id": "dfa97b30-eb53-4bc1-b070-719f60ffd5f0",
   "metadata": {},
   "source": [
    "# Sales Trend Over Time\n"
   ]
  },
  {
   "cell_type": "code",
   "execution_count": 31,
   "id": "24e9850b-15c9-4290-8366-45747e0a19bb",
   "metadata": {},
   "outputs": [
    {
     "name": "stdout",
     "output_type": "stream",
     "text": [
      "      Month  MonthlySales\n",
      "0   2023-01        177250\n",
      "1   2023-02        220300\n",
      "2   2023-03        144950\n",
      "3   2023-04        169350\n",
      "4   2023-05        265750\n",
      "5   2023-06        183575\n",
      "6   2023-07        177325\n",
      "7   2023-08        184800\n",
      "8   2023-09        118100\n",
      "9   2023-10        232900\n",
      "10  2023-11        174600\n",
      "11  2023-12        223450\n",
      "12  2024-01          7650\n"
     ]
    }
   ],
   "source": [
    "query = \"\"\"\n",
    "SELECT strftime('%Y-%m', s.Date) AS Month, SUM(s.[Total Amount]) AS MonthlySales\n",
    "FROM sales s\n",
    "GROUP BY Month\n",
    "ORDER BY Month;\n",
    "\"\"\"\n",
    "\n",
    "sales_trend_over_time = pd.read_sql(query, conn)\n",
    "print(sales_trend_over_time)\n"
   ]
  },
  {
   "cell_type": "markdown",
   "id": "e1cb6aa8-8386-4d5b-9d35-fd6db7793752",
   "metadata": {},
   "source": [
    "# Total Quantity Sold by Product"
   ]
  },
  {
   "cell_type": "code",
   "execution_count": 37,
   "id": "48a47657-f090-4722-9cfe-53070330d72a",
   "metadata": {},
   "outputs": [
    {
     "name": "stdout",
     "output_type": "stream",
     "text": [
      "    ProductID     Category  TotalQuantity\n",
      "0           2     Clothing            894\n",
      "1           5     Clothing            894\n",
      "2           8     Clothing            894\n",
      "3          11     Clothing            894\n",
      "4          12     Clothing            894\n",
      "5           3  Electronics            849\n",
      "6           6  Electronics            849\n",
      "7           7  Electronics            849\n",
      "8          10  Electronics            849\n",
      "9          15  Electronics            849\n",
      "10          1       Beauty            771\n",
      "11          4       Beauty            771\n",
      "12          9       Beauty            771\n",
      "13         13       Beauty            771\n",
      "14         14       Beauty            771\n"
     ]
    }
   ],
   "source": [
    "query = \"\"\"\n",
    "SELECT p.ProductID, p.Category, SUM(s.Quantity) AS TotalQuantity\n",
    "FROM sales s\n",
    "JOIN Products p ON s.ProductID = p.ProductID\n",
    "GROUP BY p.ProductID, p.Category\n",
    "ORDER BY TotalQuantity DESC;\n",
    "\"\"\"\n",
    "\n",
    "total_quantity_by_product = pd.read_sql(query, conn)\n",
    "print(total_quantity_by_product)\n"
   ]
  },
  {
   "cell_type": "markdown",
   "id": "aee5b3a8-23f4-4657-97ed-2b5ef5fa312b",
   "metadata": {},
   "source": [
    "# Customer Demographics Analysis\n",
    "Examine the distribution of customers by age group and gender."
   ]
  },
  {
   "cell_type": "code",
   "execution_count": 33,
   "id": "ef5538a4-7806-48c7-9cd0-92211f722e2f",
   "metadata": {},
   "outputs": [
    {
     "name": "stdout",
     "output_type": "stream",
     "text": [
      "   Gender      AgeGroup  NumberOfCustomers\n",
      "0  Female         20-30                115\n",
      "1  Female         31-40                 97\n",
      "2  Female         41-50                116\n",
      "3  Female  51 and above                158\n",
      "4  Female      Under 20                 24\n",
      "5    Male         20-30                116\n",
      "6    Male         31-40                 96\n",
      "7    Male         41-50                105\n",
      "8    Male  51 and above                155\n",
      "9    Male      Under 20                 18\n"
     ]
    }
   ],
   "source": [
    "query = \"\"\"\n",
    "SELECT c.Gender, \n",
    "       CASE \n",
    "           WHEN c.Age < 20 THEN 'Under 20'\n",
    "           WHEN c.Age BETWEEN 20 AND 30 THEN '20-30'\n",
    "           WHEN c.Age BETWEEN 31 AND 40 THEN '31-40'\n",
    "           WHEN c.Age BETWEEN 41 AND 50 THEN '41-50'\n",
    "           ELSE '51 and above'\n",
    "       END AS AgeGroup,\n",
    "       COUNT(c.CustomerID) AS NumberOfCustomers\n",
    "FROM Customers c\n",
    "GROUP BY c.Gender, AgeGroup\n",
    "ORDER BY c.Gender, AgeGroup;\n",
    "\"\"\"\n",
    "\n",
    "customer_demographics = pd.read_sql(query, conn)\n",
    "print(customer_demographics)\n"
   ]
  },
  {
   "cell_type": "markdown",
   "id": "42b30885-9f68-41c4-9d9a-fe3a0808fb5b",
   "metadata": {},
   "source": [
    "# High-Value Customers\n",
    "Identify customers who have made the highest total purchases."
   ]
  },
  {
   "cell_type": "code",
   "execution_count": 34,
   "id": "09ac3f8c-cecf-4c2c-874b-8d89e7ec5c52",
   "metadata": {},
   "outputs": [
    {
     "name": "stdout",
     "output_type": "stream",
     "text": [
      "    CustomerID  TotalSpent\n",
      "0      CUST970       10000\n",
      "1      CUST946       10000\n",
      "2      CUST927       10000\n",
      "3      CUST875       10000\n",
      "4      CUST832       10000\n",
      "..         ...         ...\n",
      "538    CUST092         600\n",
      "539    CUST055         600\n",
      "540    CUST039         600\n",
      "541    CUST023         600\n",
      "542    CUST014         600\n",
      "\n",
      "[543 rows x 2 columns]\n"
     ]
    }
   ],
   "source": [
    "query = \"\"\"\n",
    "SELECT s.CustomerID, SUM(s.[Total Amount]) AS TotalSpent\n",
    "FROM sales s\n",
    "GROUP BY s.CustomerID\n",
    "HAVING TotalSpent > 500\n",
    "ORDER BY TotalSpent DESC;\n",
    "\"\"\"\n",
    "\n",
    "high_value_customers = pd.read_sql(query, conn)\n",
    "print(high_value_customers)"
   ]
  },
  {
   "cell_type": "code",
   "execution_count": null,
   "id": "fa074211-62ac-48b9-bac1-935a47d5a245",
   "metadata": {},
   "outputs": [],
   "source": []
  },
  {
   "cell_type": "code",
   "execution_count": null,
   "id": "29d431a5-6a6a-4b8a-8a15-84b1965833a5",
   "metadata": {},
   "outputs": [],
   "source": []
  },
  {
   "cell_type": "code",
   "execution_count": null,
   "id": "f4cdb792-c08b-4483-b6d1-aa7c67b06304",
   "metadata": {},
   "outputs": [],
   "source": []
  },
  {
   "cell_type": "code",
   "execution_count": null,
   "id": "fdb1c2da-45c8-4e3c-9419-c72d03807620",
   "metadata": {},
   "outputs": [],
   "source": []
  },
  {
   "cell_type": "code",
   "execution_count": null,
   "id": "080c453c-ba5f-4d73-ab13-48781353bf67",
   "metadata": {},
   "outputs": [],
   "source": []
  },
  {
   "cell_type": "code",
   "execution_count": null,
   "id": "73388f73-5d31-4ab9-a5a1-b1f126c43ce1",
   "metadata": {},
   "outputs": [],
   "source": []
  },
  {
   "cell_type": "code",
   "execution_count": null,
   "id": "51d3f5e3-b803-4ae6-9795-252fe57fdcec",
   "metadata": {},
   "outputs": [],
   "source": []
  }
 ],
 "metadata": {
  "kernelspec": {
   "display_name": "Python 3 (ipykernel)",
   "language": "python",
   "name": "python3"
  },
  "language_info": {
   "codemirror_mode": {
    "name": "ipython",
    "version": 3
   },
   "file_extension": ".py",
   "mimetype": "text/x-python",
   "name": "python",
   "nbconvert_exporter": "python",
   "pygments_lexer": "ipython3",
   "version": "3.11.9"
  }
 },
 "nbformat": 4,
 "nbformat_minor": 5
}
